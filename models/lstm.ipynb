{
 "cells": [
  {
   "cell_type": "markdown",
   "metadata": {},
   "source": [
    "Simple example using LSTM recurrent neural network to classify emotion dataset.\n",
    "\n",
    "References:\n",
    "    - Long Short Term Memory, Sepp Hochreiter & Jurgen Schmidhuber, Neural\n",
    "    Computation 9(8): 1735-1780, 1997.\n",
    "    - Andrew L. Maas, Raymond E. Daly, Peter T. Pham, Dan Huang, Andrew Y. Ng,\n",
    "    and Christopher Potts. (2011). Learning Word Vectors for Sentiment\n",
    "    Analysis. The 49th Annual Meeting of the Association for Computational\n",
    "    Linguistics (ACL 2011).\n",
    "\n",
    "Links:\n",
    "    - http://colah.github.io/posts/2015-08-Understanding-LSTMs/\n",
    "    - http://deeplearning.cs.cmu.edu/pdfs/Hochreiter97_lstm.pdf\n",
    "    - http://machinelearningmastery.com/sequence-classification-lstm-recurrent-neural-networks-python-keras/\n",
    "    - https://github.com/tflearn/tflearn/blob/master/examples/nlp/lstm.py\n",
    "    - http://tflearn.org/"
   ]
  },
  {
   "cell_type": "code",
   "execution_count": 1,
   "metadata": {
    "collapsed": false
   },
   "outputs": [],
   "source": [
    "from __future__ import division, print_function\n",
    "\n",
    "import pickle\n",
    "import time\n",
    "\n",
    "import tflearn\n",
    "\n",
    "import pandas as pd\n",
    "\n",
    "from sklearn.model_selection import StratifiedShuffleSplit\n",
    "\n",
    "from tflearn.data_utils import to_categorical, pad_sequences\n",
    "from tflearn.datasets import imdb"
   ]
  },
  {
   "cell_type": "code",
   "execution_count": 2,
   "metadata": {
    "collapsed": false
   },
   "outputs": [],
   "source": [
    "# Data set loading\n",
    "params_file = 'data_params.pkl'\n",
    "\n",
    "with open(params_file, 'rb') as f:\n",
    "    params = pickle.load(f)\n",
    "\n",
    "max_sequence_length = params['max_sequence_length']\n",
    "labels = params['labels']\n",
    "vocab = params['vocab']\n",
    "\n",
    "num_classes = len(labels)\n",
    "num_words = len(vocab)\n",
    "\n",
    "data_file = 'processed_emotions.pkl'\n",
    "\n",
    "data = pd.read_pickle(data_file)\n",
    "dataY = data['label'].values\n",
    "dataX = data['sequence'].values"
   ]
  },
  {
   "cell_type": "code",
   "execution_count": 3,
   "metadata": {
    "collapsed": true
   },
   "outputs": [],
   "source": [
    "# Split data set\n",
    "kfolds = 1\n",
    "test_ratio = 0.2\n",
    "\n",
    "sss = StratifiedShuffleSplit(n_splits=kfolds, test_size=test_ratio, random_state=0)\n",
    "for train_index, test_index in sss.split(dataX, dataY):\n",
    "    trainX, testX = dataX[train_index], dataX[test_index]\n",
    "    trainY, testY = dataY[train_index], dataY[test_index]"
   ]
  },
  {
   "cell_type": "code",
   "execution_count": null,
   "metadata": {
    "collapsed": true
   },
   "outputs": [],
   "source": [
    "# TODO: use kfold cross validation for hyper-parameter tuning on training set"
   ]
  },
  {
   "cell_type": "code",
   "execution_count": 4,
   "metadata": {
    "collapsed": false
   },
   "outputs": [],
   "source": [
    "# Data preprocessing\n",
    "# Sequence padding\n",
    "trainX = pad_sequences(trainX, maxlen=max_sequence_length, value=0.)\n",
    "testX = pad_sequences(testX, maxlen=max_sequence_length, value=0.)\n",
    "# Converting labels to binary vectors\n",
    "trainY = to_categorical(trainY, nb_classes=num_classes)\n",
    "testY = to_categorical(testY, nb_classes=num_classes)"
   ]
  },
  {
   "cell_type": "code",
   "execution_count": 5,
   "metadata": {
    "collapsed": true
   },
   "outputs": [],
   "source": [
    "# TODO: try adding a 1D Convolution and Max Pooling Layer prior to LSTM\n",
    "\n",
    "# Network building\n",
    "net = tflearn.input_data([None, max_sequence_length])\n",
    "net = tflearn.embedding(net, input_dim=num_words, output_dim=128)\n",
    "net = tflearn.lstm(net, 128, dropout=0.5)\n",
    "net = tflearn.fully_connected(net, num_classes, activation='softmax')\n",
    "net = tflearn.regression(net, optimizer='adam', learning_rate=0.001, loss='categorical_crossentropy')"
   ]
  },
  {
   "cell_type": "code",
   "execution_count": 6,
   "metadata": {
    "collapsed": false
   },
   "outputs": [
    {
     "name": "stdout",
     "output_type": "stream",
     "text": [
      "Training Step: 10000  | total loss: \u001b[1m\u001b[32m1.45479\u001b[0m\u001b[0m\n",
      "| Adam | epoch: 010 | loss: 1.45479 - acc: 0.5106 | val_loss: 2.21357 - val_acc: 0.3124 -- iter: 32000/32000\n",
      "Training Step: 10000  | total loss: \u001b[1m\u001b[32m1.45479\u001b[0m\u001b[0m\n",
      "| Adam | epoch: 010 | loss: 1.45479 - acc: 0.5106 | val_loss: 2.21357 - val_acc: 0.3124 -- iter: 32000/32000\n",
      "--\n",
      "Training duration (s): 1025.83418202\n"
     ]
    }
   ],
   "source": [
    "# Training\n",
    "start_time = time.time()\n",
    "model = tflearn.DNN(net, tensorboard_verbose=3)\n",
    "model.fit(trainX, trainY, validation_set=(testX, testY), show_metric=True, batch_size=32)\n",
    "print('Training duration (s): {}'.format(time.time() - start_time))"
   ]
  },
  {
   "cell_type": "code",
   "execution_count": 10,
   "metadata": {
    "collapsed": false
   },
   "outputs": [
    {
     "data": {
      "text/plain": [
       "'love'"
      ]
     },
     "execution_count": 10,
     "metadata": {},
     "output_type": "execute_result"
    }
   ],
   "source": [
    "from emojibot.utils.text_utils import clean_sentence, encode_sentence\n",
    "test_sentence = \"i love puppies\"\n",
    "test_sentence = clean_sentence(sentence=test_sentence)\n",
    "test_sentence = encode_sentence(sentence=test_sentence, vocab=vocab)\n",
    "test_sequence = pad_sequences([test_sentence], maxlen=max_sequence_length, value=0.)\n",
    "probs = model.predict(test_sequence)[0]\n",
    "pred_class = probs.index(max(probs))\n",
    "labels[pred_class]"
   ]
  },
  {
   "cell_type": "code",
   "execution_count": 11,
   "metadata": {
    "collapsed": false
   },
   "outputs": [
    {
     "name": "stdout",
     "output_type": "stream",
     "text": [
      "INFO:tensorflow:./emoji.model is not in all_model_checkpoint_paths. Manually adding it.\n"
     ]
    }
   ],
   "source": [
    "model.save('emoji.model')"
   ]
  },
  {
   "cell_type": "code",
   "execution_count": 9,
   "metadata": {
    "collapsed": true
   },
   "outputs": [],
   "source": [
    "# TODO: improve use of tensorboard - https://github.com/tflearn/tflearn/blob/master/examples/extending_tensorflow/summaries.py"
   ]
  }
 ],
 "metadata": {
  "kernelspec": {
   "display_name": "Python 2",
   "language": "python",
   "name": "python2"
  },
  "language_info": {
   "codemirror_mode": {
    "name": "ipython",
    "version": 2
   },
   "file_extension": ".py",
   "mimetype": "text/x-python",
   "name": "python",
   "nbconvert_exporter": "python",
   "pygments_lexer": "ipython2",
   "version": "2.7.13"
  }
 },
 "nbformat": 4,
 "nbformat_minor": 0
}
